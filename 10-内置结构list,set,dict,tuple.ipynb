{
 "cells": [
  {
   "cell_type": "code",
   "execution_count": 2,
   "metadata": {},
   "outputs": [
    {
     "name": "stdout",
     "output_type": "stream",
     "text": [
      "[1, 2, 3, 4, 5, 6]\n",
      "[1, 2, 300, 4, 5, 6]\n",
      "[1, 2, 300, 4, 5, 6]\n",
      "9\n",
      "109\n",
      "9\n"
     ]
    }
   ],
   "source": [
    "# 传值和传址的区别\n",
    "# 对于简单的数值，采用传值操作\n",
    "# 对于复杂变量，采用传址操作\n",
    "\n",
    "def a(n) :\n",
    "    n[2] = 300\n",
    "    print(n)\n",
    "    return None\n",
    "\n",
    "def b(n) :\n",
    "    n += 100\n",
    "    print(n)\n",
    "    return None\n",
    "\n",
    "an = [1,2,3,4,5,6]\n",
    "bn = 9\n",
    "\n",
    "# 外部变量竟然改变了，和c++的引用类似。\n",
    "print(an)\n",
    "a(an)\n",
    "print(an)\n",
    "\n",
    "# 这次是正常的不改变\n",
    "print(bn)\n",
    "b(bn)\n",
    "print(bn)\n",
    "\n",
    "# list进入函数，是进行传址\n",
    "# 单个变量进入函数，是进行传值"
   ]
  },
  {
   "cell_type": "markdown",
   "metadata": {},
   "source": [
    "# 关于列表的函数"
   ]
  },
  {
   "cell_type": "code",
   "execution_count": 5,
   "metadata": {},
   "outputs": [
    {
     "data": {
      "text/plain": [
       "['a', 'i', 'love', 'wangxiaojng', 45, 766, (5+4j)]"
      ]
     },
     "execution_count": 5,
     "metadata": {},
     "output_type": "execute_result"
    }
   ],
   "source": [
    "l = ['a', 'i', 'love', 'wangxiaojng',45,766,5+4j]\n",
    "l\n",
    "# python中没有数组。因为数组要求的是同置\n",
    "# 但是python中的列表可以异置"
   ]
  },
  {
   "cell_type": "code",
   "execution_count": 1,
   "metadata": {},
   "outputs": [
    {
     "name": "stdout",
     "output_type": "stream",
     "text": [
      "[1, 2, 3, 4]\n",
      "[1, 2, 3, 4, 100]\n"
     ]
    }
   ],
   "source": [
    "# append 插入一个内容，在末尾追加\n",
    "a = [i for i in range(1,5)]\n",
    "print(a)\n",
    "a.append(100)\n",
    "print(a)"
   ]
  },
  {
   "cell_type": "code",
   "execution_count": 2,
   "metadata": {},
   "outputs": [
    {
     "name": "stdout",
     "output_type": "stream",
     "text": [
      "[1, 2, 3, 4, 100]\n",
      "[1, 2, 3, 666, 4, 100]\n"
     ]
    }
   ],
   "source": [
    "# insert 指定位置插入\n",
    "# insert(index, data)，插入位置是index前面\n",
    "print(a)\n",
    "a.insert(3,666)\n",
    "print(a)"
   ]
  },
  {
   "cell_type": "code",
   "execution_count": 3,
   "metadata": {},
   "outputs": [
    {
     "name": "stdout",
     "output_type": "stream",
     "text": [
      "[1, 2, 3, 666, 4, 100]\n",
      "[1, 2, 3, 4, 100]\n",
      "100\n",
      "[1, 2, 3, 4]\n"
     ]
    }
   ],
   "source": [
    "# del 删除\n",
    "# 绝大多数list，我们不会用insert插入\n",
    "# 经常我们想干的就是append \n",
    "# 同理正常的删除也是从一端删除，这种删除叫做弹出\n",
    "# pop弹出，从对位拿出一个元素，即把最后一个元素取出来\n",
    "print(a)\n",
    "del(a[3])\n",
    "print(a)\n",
    "last_ele = a.pop()\n",
    "print(last_ele)\n",
    "print(a)"
   ]
  },
  {
   "cell_type": "code",
   "execution_count": 8,
   "metadata": {},
   "outputs": [
    {
     "name": "stdout",
     "output_type": "stream",
     "text": [
      "[1, 2, 3, 4]\n",
      "4601918216\n",
      "[1, 2, 3, 4]\n",
      "4601918216\n"
     ]
    }
   ],
   "source": [
    "# remove 在列表中删除指定的值的元素\n",
    "# 如果被删除的值没有在list中，则会报错\n",
    "# 即，删除list指定值的操作应该使用try... excepty语句。或者先行进行判断\n",
    "# if x in list :\n",
    "#      list.remove(x)\n",
    "print(a)\n",
    "a.insert(4,666)\n",
    "print(id(a))\n",
    "a.remove(666)\n",
    "print(a)\n",
    "print(id(a))\n",
    "# 报错中的attitude是属性错误\n",
    "# 输出两个id值一样，说明，remove操作是在原list直接操作"
   ]
  },
  {
   "cell_type": "code",
   "execution_count": 9,
   "metadata": {},
   "outputs": [
    {
     "name": "stdout",
     "output_type": "stream",
     "text": [
      "[1, 2, 3, 4]\n",
      "4601918216\n",
      "[]\n",
      "4601918216\n"
     ]
    }
   ],
   "source": [
    "# clear 清空\n",
    "print(a)\n",
    "print(id(a))\n",
    "a.clear()\n",
    "print(a)\n",
    "print(id(a))\n",
    "\n",
    "# 如果不需要列表地址保持不变，则清空列表可以使用以下方式\n",
    "# a = list()\n",
    "# a = []\n",
    "# 这两种方法等于原来的list还存在，但是a现在已经不指向它了"
   ]
  },
  {
   "cell_type": "code",
   "execution_count": 13,
   "metadata": {},
   "outputs": [
    {
     "name": "stdout",
     "output_type": "stream",
     "text": [
      "[1, 2, 3, 4, 5]\n",
      "4602522504\n",
      "[5, 4, 3, 2, 1]\n",
      "4602522504\n",
      "[5, 4, 3, 2, 1]\n",
      "4602522504\n"
     ]
    }
   ],
   "source": [
    "# reverse 原地反转\n",
    "\n",
    "a = [1,2,3,4,5]\n",
    "print(a)\n",
    "print(id(a))\n",
    "\n",
    "a.reverse()\n",
    "print(a)\n",
    "print(id(a))\n",
    "\n",
    "# 或者\n",
    "a[: :-1]\n",
    "print(a)\n",
    "print(id(a))"
   ]
  },
  {
   "cell_type": "code",
   "execution_count": 16,
   "metadata": {},
   "outputs": [
    {
     "name": "stdout",
     "output_type": "stream",
     "text": [
      "[1, 2, 3, 4, 5]\n",
      "4602522696\n",
      "[1, 2, 3, 4, 5, 6, 7, 8, 9]\n",
      "4602522696\n"
     ]
    }
   ],
   "source": [
    "# extend 扩展列表，两个列表，把一个直接拼接到后一个上\n",
    "a = [1,2,3,4,5]\n",
    "b = [6,7,8,9]\n",
    "print(a)\n",
    "print(id(a))\n",
    "\n",
    "a.extend(b)\n",
    "print(a)\n",
    "print(id(a))"
   ]
  },
  {
   "cell_type": "code",
   "execution_count": 19,
   "metadata": {},
   "outputs": [
    {
     "name": "stdout",
     "output_type": "stream",
     "text": [
      "[1, 2, 8, 3, 4, 5, 6, 7, 8, 9, 8]\n",
      "[1, 2, 8, 8, 3, 4, 5, 6, 7, 8, 9, 8, 8]\n",
      "5\n"
     ]
    }
   ],
   "source": [
    "# count 查找列表中指定值或元素的个数\n",
    "print(a)\n",
    "a.append(8)\n",
    "a.insert(2,8)  # insert(index,input) 在index这个位置放入一个input\n",
    "                  #原本index位置的东西向后移以为\n",
    "print(a)\n",
    "a_len = a.count(8)\n",
    "print(a_len)"
   ]
  },
  {
   "cell_type": "code",
   "execution_count": 23,
   "metadata": {},
   "outputs": [
    {
     "name": "stdout",
     "output_type": "stream",
     "text": [
      "[1, 2, 3, 4, 5, 666]\n",
      "[1, 2, 3, [777], 5, 666]\n",
      "4602620936\n",
      "[1, 2, 3, [777], 5, 666]\n",
      "4602620936\n",
      "********************\n",
      "[1, 2, 3, [777], 5, 666]\n",
      "4602620936\n",
      "[1, 2, 3, [777], 5, 666]\n",
      "4601894408\n",
      "******************************\n",
      "[1, 2, 3, [777], 5, 666]\n",
      "[1, 2, 3, 888, 5, 666]\n"
     ]
    }
   ],
   "source": [
    "# copy 拷贝，浅拷贝\n",
    "\n",
    "# 列表类型变量赋值示例\n",
    "a = [1,2,3,4,5,666]\n",
    "print(a)\n",
    "# list类型，简单赋值操作 ，是传地址\n",
    "b = a #相当于引用了啊\n",
    "b[3] = [777]\n",
    "print(a)\n",
    "print(id(a))\n",
    "print(b)\n",
    "print(id(b))\n",
    "\n",
    "print(\"*\" *20)\n",
    "\n",
    "# 为了解决列表的赋值就是相当于引用的问题\n",
    "b = a.copy()\n",
    "print(a)\n",
    "print(id(a))\n",
    "print(b)\n",
    "print(id(b))\n",
    "\n",
    "print(\"*\" *30)\n",
    "b[3] = 888\n",
    "print(a)\n",
    "print(b)"
   ]
  },
  {
   "cell_type": "code",
   "execution_count": 27,
   "metadata": {},
   "outputs": [
    {
     "name": "stdout",
     "output_type": "stream",
     "text": [
      "4602619976\n",
      "4603092040\n",
      "4599872648\n",
      "4599872648\n",
      "[1, 2, 3, [10, 20, 666]]\n",
      "[1, 2, 3, [10, 20, 666]]\n"
     ]
    }
   ],
   "source": [
    "# 深拷贝跟浅拷贝的区别\n",
    "# 出现下列问题的原因是，copy函数是个浅拷贝函数，即只拷贝一层的内容\n",
    "# 深拷贝需要使用特定工具\n",
    "a = [1,2,3,[10,20,30]]\n",
    "b = a.copy()\n",
    "print(id(a))\n",
    "print(id(b))\n",
    "print(id(a[3]))\n",
    "print(id(b[3]))\n",
    "a[3][2] = 666\n",
    "print(a)                \n",
    "print(b)\n",
    "# 此时拷贝是只有拷贝一层\n",
    "# 但是a现在是有双层列表的\n",
    "# 就是说，现在a[3]这个位置存储的其实是一个地址\n",
    "# 这个时候拷贝过去给b的也是这个地址\n",
    "# 所以在更改a[3][2]的时候，b[3][2]也在改变"
   ]
  },
  {
   "cell_type": "markdown",
   "metadata": {},
   "source": [
    "# 元组-tuple\n",
    "- 元组可以看出是一个不可更改的list\n",
    "\n",
    "## 元组创建"
   ]
  },
  {
   "cell_type": "code",
   "execution_count": 33,
   "metadata": {},
   "outputs": [
    {
     "name": "stdout",
     "output_type": "stream",
     "text": [
      "<class 'tuple'>\n",
      "<class 'tuple'>\n",
      "<class 'int'>\n",
      "<class 'tuple'>\n",
      "<class 'tuple'>\n",
      "(1, 2, 3, 4, 5)\n",
      "<class 'tuple'>\n",
      "(1, 2, 3, 4, 5)\n",
      "<class 'tuple'>\n",
      "(1, 2, 3, 4, 5)\n"
     ]
    }
   ],
   "source": [
    "# 创建空元组\n",
    "t = () #list t=[]\n",
    "print(type(t))\n",
    "\n",
    "# 创建一个只有一个值的元组\n",
    "t = (1,) # 后面接一个逗号\n",
    "print(type(t))\n",
    "\n",
    "# 否则\n",
    "t = (1)\n",
    "print(type(t))\n",
    "\n",
    "t = 1,\n",
    "print(type(t))\n",
    "\n",
    "# 创建多个值的元组\n",
    "t = (1,2,3,4,5)\n",
    "print(type(t))\n",
    "print(t)\n",
    "\n",
    "t = 1,2,3,4,5\n",
    "print(type(t))\n",
    "print(t)\n",
    "\n",
    "# 使用其他结构创建\n",
    "l = [1,2,3,4,5]\n",
    "t = tuple(l)\n",
    "print(type(t))\n",
    "print(t)"
   ]
  },
  {
   "cell_type": "markdown",
   "metadata": {},
   "source": [
    "# 元组的特性\n",
    "- 是序列表，有序\n",
    "- 元组数据值可以访问，不能修改，不能修改，不能修改\n",
    "- 元组数据可以是任意类型\n",
    "- 总之，list所有恶行，除了可修改外，元组都具有\n",
    "- 也就意味着，list具有的一些操作，比如索引，分片，相乘，成员资格操作等，一摸一样"
   ]
  },
  {
   "cell_type": "code",
   "execution_count": 36,
   "metadata": {},
   "outputs": [
    {
     "name": "stdout",
     "output_type": "stream",
     "text": [
      "5\n"
     ]
    }
   ],
   "source": [
    "# 索引操作\n",
    "t = (1,2,3,4,5)\n",
    "print(t[4])"
   ]
  },
  {
   "cell_type": "code",
   "execution_count": 40,
   "metadata": {},
   "outputs": [
    {
     "name": "stdout",
     "output_type": "stream",
     "text": [
      "4601600808\n",
      "4603222992\n",
      "(2, 4, 6)\n",
      "(3, 4, 5, 6)\n"
     ]
    }
   ],
   "source": [
    "# 切片  ---不论是tuple还是list在切片后都不是原地操作\n",
    "# 即将值赋给了其他地址\n",
    "t = (1,2,3,4,5,6)\n",
    "t1 = t[1: :2]\n",
    "print(id(t))\n",
    "print(id(t1))\n",
    "print(t1)\n",
    "\n",
    "# 切片可以超标\n",
    "t2 = t[2:100]\n",
    "print(t2)"
   ]
  },
  {
   "cell_type": "code",
   "execution_count": 43,
   "metadata": {},
   "outputs": [
    {
     "name": "stdout",
     "output_type": "stream",
     "text": [
      "(1, 2, 3)\n",
      "4603220256\n",
      "(1, 2, 3, 5, 6, 7)\n",
      "4602581160\n"
     ]
    }
   ],
   "source": [
    "# 序列相加\n",
    "t1 = (1,2,3)\n",
    "t2 = (5,6,7)\n",
    "\n",
    "# 传址操作\n",
    "print(t1)\n",
    "print(id(t1))\n",
    "t1 = t1 + t2\n",
    "print(t1)\n",
    "print(id(t1))  #因为tuple的内容不可修改的\n",
    "# 所以在使用加号时，其实是将t1的地址改变了"
   ]
  },
  {
   "cell_type": "code",
   "execution_count": 45,
   "metadata": {},
   "outputs": [
    {
     "name": "stdout",
     "output_type": "stream",
     "text": [
      "(1, 2, 3, 1, 2, 3, 1, 2, 3)\n"
     ]
    }
   ],
   "source": [
    "# 元组相乘\n",
    "t = (1,2,3)\n",
    "t = t * 3\n",
    "print(t) \n",
    "# 其实这里的t也已经不是原来的那个内存块的"
   ]
  },
  {
   "cell_type": "code",
   "execution_count": 47,
   "metadata": {},
   "outputs": [
    {
     "name": "stdout",
     "output_type": "stream",
     "text": [
      "YES\n"
     ]
    }
   ],
   "source": [
    "# 成员检测\n",
    "t = (1,2,3)\n",
    "if 2 in t :\n",
    "    print(\"YES\")\n",
    "else : \n",
    "    print(\"NO\")"
   ]
  },
  {
   "cell_type": "code",
   "execution_count": 50,
   "metadata": {},
   "outputs": [
    {
     "name": "stdout",
     "output_type": "stream",
     "text": [
      "1\n",
      "2\n",
      "3\n",
      "wangxiaojing\n",
      "i\n",
      "love\n"
     ]
    }
   ],
   "source": [
    "# 元组遍历，一般采用for\n",
    "# 单层元组遍历\n",
    "t = (1,2,3,\"wangxiaojing\", \"i\", \"love\")\n",
    "for i in t :\n",
    "    print(i)"
   ]
  },
  {
   "cell_type": "code",
   "execution_count": 53,
   "metadata": {},
   "outputs": [
    {
     "name": "stdout",
     "output_type": "stream",
     "text": [
      "1\n",
      "2\n",
      "3\n",
      "2\n",
      "3\n",
      "4\n",
      "i\n",
      "love\n",
      "wangxiaojing\n",
      "1 --- 2 --- 3\n",
      "2 --- 3 --- 4\n",
      "i --- love --- wangxiaojing\n"
     ]
    }
   ],
   "source": [
    "# 双层元组的遍历\n",
    "t = ((1,2,3),(2,3,4),(\"i\",\"love\",\"wangxiaojing\"))\n",
    "\n",
    "# 对以上元组的遍历，可以如下\n",
    "# 1.\n",
    "for i in t :\n",
    "    for k in i :\n",
    "        print(k)\n",
    "# 2.\n",
    "for k,m,n in t : \n",
    "    print(k,'---', m, '---', n)"
   ]
  }
 ],
 "metadata": {
  "kernelspec": {
   "display_name": "Python 3",
   "language": "python",
   "name": "python3"
  },
  "language_info": {
   "codemirror_mode": {
    "name": "ipython",
    "version": 3
   },
   "file_extension": ".py",
   "mimetype": "text/x-python",
   "name": "python",
   "nbconvert_exporter": "python",
   "pygments_lexer": "ipython3",
   "version": "3.6.5"
  }
 },
 "nbformat": 4,
 "nbformat_minor": 2
}
