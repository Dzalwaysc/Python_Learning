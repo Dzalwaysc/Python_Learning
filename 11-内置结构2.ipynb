{
 "cells": [
  {
   "cell_type": "markdown",
   "metadata": {},
   "source": [
    "# 关于元组的函数\n",
    "- 以下看代码\n",
    "- 以下函数，对list基本适用"
   ]
  },
  {
   "cell_type": "code",
   "execution_count": 2,
   "metadata": {},
   "outputs": [
    {
     "data": {
      "text/plain": [
       "5"
      ]
     },
     "execution_count": 2,
     "metadata": {},
     "output_type": "execute_result"
    }
   ],
   "source": [
    "# len：获取元组的长度\n",
    "t = (1,2,3,4,5)\n",
    "len(t)"
   ]
  },
  {
   "cell_type": "code",
   "execution_count": 4,
   "metadata": {},
   "outputs": [
    {
     "name": "stdout",
     "output_type": "stream",
     "text": [
      "5\n",
      "1\n"
     ]
    }
   ],
   "source": [
    "# max,min：最大最小值\n",
    "# 如果，列表或元组中有多个最大最小值，则实际打印出哪个\n",
    "print(max(t))\n",
    "print(min(t))"
   ]
  },
  {
   "cell_type": "code",
   "execution_count": 7,
   "metadata": {},
   "outputs": [
    {
     "name": "stdout",
     "output_type": "stream",
     "text": [
      "(1, 2, 3, 4, 5)\n",
      "()\n"
     ]
    }
   ],
   "source": [
    "# tuple转化或创建元组\n",
    "l = [1,2,3,4,5]\n",
    "t = tuple(l)\n",
    "print(t)\n",
    "\n",
    "t = tuple()\n",
    "print(t)"
   ]
  },
  {
   "cell_type": "markdown",
   "metadata": {},
   "source": [
    "# 元组的函数\n",
    "- 基本跟list通用"
   ]
  },
  {
   "cell_type": "code",
   "execution_count": 12,
   "metadata": {},
   "outputs": [
    {
     "name": "stdout",
     "output_type": "stream",
     "text": [
      "4\n",
      "4\n",
      "1\n"
     ]
    }
   ],
   "source": [
    "# count：计算指定数据出现的次数\n",
    "t = (2,1,2,3,45,1,1,2,2,)\n",
    "\n",
    "print(t.count(2))\n",
    "\n",
    "# index: 求指定元素在元组中的索引位置\n",
    "print(t.index(45))\n",
    "\n",
    "#如果需要查找的数字的多个，则返回第一个\n",
    "print(t.index(1))"
   ]
  },
  {
   "cell_type": "markdown",
   "metadata": {},
   "source": [
    "# 元组变量交换法\n",
    "- 两个变量交换值"
   ]
  },
  {
   "cell_type": "code",
   "execution_count": 16,
   "metadata": {},
   "outputs": [
    {
     "name": "stdout",
     "output_type": "stream",
     "text": [
      "a=1\n",
      "b=3\n",
      "a=3\n",
      "b=1\n"
     ]
    }
   ],
   "source": [
    "# 两个变量交换值\n",
    "a = 1\n",
    "b = 3\n",
    "print(\"a=%d\" % a)\n",
    "print(\"b=%d\" % b)\n",
    "a, b = b, a\n",
    "print(\"a=%d\" % a)\n",
    "print(\"b=%d\" % b)"
   ]
  },
  {
   "cell_type": "markdown",
   "metadata": {},
   "source": [
    "# 集合-set\n",
    "- 集合是高中数学中的一个概念\n",
    "- 一堆确定的无序的唯一的数据，集合中每一个数据成为一个元素"
   ]
  },
  {
   "cell_type": "code",
   "execution_count": 20,
   "metadata": {},
   "outputs": [
    {
     "name": "stdout",
     "output_type": "stream",
     "text": [
      "<class 'set'>\n",
      "set()\n",
      "<class 'set'>\n",
      "{1, 2, 3, 4, 5, 6}\n"
     ]
    }
   ],
   "source": [
    "# 集合的定义\n",
    "s = set()\n",
    "print(type(s))\n",
    "print(s)\n",
    "\n",
    "# 或者，在大括号内一定要有值，否则定义的是一个dict\n",
    "s = {1,2,3,4,5,6}\n",
    "print(type(s))\n",
    "print(s)"
   ]
  },
  {
   "cell_type": "code",
   "execution_count": 21,
   "metadata": {},
   "outputs": [
    {
     "name": "stdout",
     "output_type": "stream",
     "text": [
      "<class 'dict'>\n",
      "{}\n"
     ]
    }
   ],
   "source": [
    "# 如果只是用大括号定义，则定义的是一个dict类型\n",
    "# 小括号定义--tuple\n",
    "# 中括号定义--list\n",
    "# 大括号定义--dict\n",
    "d = {}\n",
    "print(type(d))\n",
    "print(d)"
   ]
  },
  {
   "cell_type": "markdown",
   "metadata": {},
   "source": [
    "# 集合的特征\n",
    "- 集合内数据无序，即无法使用索引和分片（因为集合是无序的啊）\n",
    "- 集合内部数据元素具有唯一性，可以用来排除重复数据\n",
    "- 集合内的数据，str，int，float，tuple，冰冻集合等，即内部职能放置可哈希数据"
   ]
  },
  {
   "cell_type": "markdown",
   "metadata": {},
   "source": [
    "# 集合序列操作"
   ]
  },
  {
   "cell_type": "code",
   "execution_count": 24,
   "metadata": {},
   "outputs": [
    {
     "name": "stdout",
     "output_type": "stream",
     "text": [
      "{'wangxiaojing', 4, 5, 'i', 'love'}\n",
      "爱呀\n",
      "爱个锤子\n"
     ]
    }
   ],
   "source": [
    "# 成员检测\n",
    "# in , not in\n",
    "s = {4,5,\"i\",\"love\",\"wangxiaojing\"}\n",
    "print(s)\n",
    "# 说明无序性\n",
    "\n",
    "if \"love\" in s :\n",
    "    print(\"爱呀\")\n",
    "\n",
    "if \"liming\" not in s :\n",
    "    print(\"爱个锤子\")"
   ]
  },
  {
   "cell_type": "markdown",
   "metadata": {},
   "source": [
    "# 集合遍历操作"
   ]
  },
  {
   "cell_type": "code",
   "execution_count": 25,
   "metadata": {},
   "outputs": [
    {
     "name": "stdout",
     "output_type": "stream",
     "text": [
      "wangxiaojing 4 5 i love "
     ]
    }
   ],
   "source": [
    "# for 循环\n",
    "s = {4,5,\"i\",\"love\",\"wangxiaojing\"} \n",
    "\n",
    "for i in s :\n",
    "    print(i, end=\" \")"
   ]
  },
  {
   "cell_type": "code",
   "execution_count": 27,
   "metadata": {},
   "outputs": [
    {
     "name": "stdout",
     "output_type": "stream",
     "text": [
      "4 -- 5 -- 6\n",
      "i -- love -- wangxiaojing\n",
      "1 -- 2 -- 3\n",
      "(4, 5, 6)\n",
      "('i', 'love', 'wangxiaojing')\n",
      "(1, 2, 3)\n"
     ]
    }
   ],
   "source": [
    "# 带有元组的集合遍历\n",
    "s = {(1,2,3,), (\"i\", \"love\", \"wangxiaojing\",), (4,5,6,)}\n",
    "for k,m,n in s :\n",
    "    print(k, \"--\", m, \"--\", n)\n",
    "    \n",
    "for k in s :\n",
    "    print(k)"
   ]
  },
  {
   "cell_type": "markdown",
   "metadata": {},
   "source": [
    "# 集合的内涵"
   ]
  },
  {
   "cell_type": "code",
   "execution_count": 31,
   "metadata": {},
   "outputs": [
    {
     "name": "stdout",
     "output_type": "stream",
     "text": [
      "{545, 1, 3, 2, 4, 233, 23}\n",
      "{545, 2, 3, 4, 1, 233, 23}\n"
     ]
    }
   ],
   "source": [
    "# 普通集合内涵\n",
    "# 以下集合在初始化后自动过滤掉重复元素\n",
    "s = {23,233,545,3,1,2,3,4,3,2,1,2,4}\n",
    "print(s)\n",
    "\n",
    "# 普通集合内涵\n",
    "ss = {i for i in s}\n",
    "print(ss)\n"
   ]
  },
  {
   "cell_type": "code",
   "execution_count": 33,
   "metadata": {},
   "outputs": [
    {
     "name": "stdout",
     "output_type": "stream",
     "text": [
      "{2, 4}\n"
     ]
    }
   ],
   "source": [
    "# 带条件的集合内涵\n",
    "sss = {i for i in s if i %2 == 0}\n",
    "print(sss)"
   ]
  },
  {
   "cell_type": "code",
   "execution_count": 37,
   "metadata": {},
   "outputs": [
    {
     "name": "stdout",
     "output_type": "stream",
     "text": [
      "{'wangxiaojing', 'lovelovelovelove', 'ii', 'i', 'wangxiaojingwangxiaojing', 'wangxiaojingwangxiaojingwangxiaojingwangxiaojing', 'love', 'iiii', 'lovelovelove', 'iii', 'lovelove', 'wangxiaojingwangxiaojingwangxiaojing'}\n",
      "{'lovelove', 'wangxiaojingwangxiaojing', 'ii'}\n"
     ]
    }
   ],
   "source": [
    "# 多循环的集合内涵\n",
    "s1 = {1,2,3,4}\n",
    "s2 = {\"i\", \"love\",\"wangxiaojing\"}\n",
    "\n",
    "s = {m*n for m in s2 for n in s1}\n",
    "print(s)\n",
    "\n",
    "\n",
    "s = {m*n for m in s2 for n in s1 if n ==2}\n",
    "print(s)"
   ]
  },
  {
   "cell_type": "markdown",
   "metadata": {},
   "source": [
    "# 集合函数/关于集合的函数"
   ]
  },
  {
   "cell_type": "code",
   "execution_count": 39,
   "metadata": {},
   "outputs": [
    {
     "name": "stdout",
     "output_type": "stream",
     "text": [
      "6\n",
      "43\n",
      "1\n"
     ]
    }
   ],
   "source": [
    "# len, max, min;跟其他基本函数一致\n",
    "s = (43,23,22,4,2,1)\n",
    "print(len(s))\n",
    "print(max(s))\n",
    "print(min(s))"
   ]
  },
  {
   "cell_type": "code",
   "execution_count": 41,
   "metadata": {},
   "outputs": [
    {
     "name": "stdout",
     "output_type": "stream",
     "text": [
      "{1, 2, 3, 4, 5, 42}\n"
     ]
    }
   ],
   "source": [
    "# set：生成一个集合\n",
    "l = [1,2,3,4,5,2,3,42]\n",
    "s = set(l)\n",
    "print(s)"
   ]
  },
  {
   "cell_type": "code",
   "execution_count": 44,
   "metadata": {},
   "outputs": [
    {
     "name": "stdout",
     "output_type": "stream",
     "text": [
      "{1, 334}\n"
     ]
    }
   ],
   "source": [
    "# add：向集合内添加元素\n",
    "# 由于集合是没有顺序的，所以无法append(追加)\n",
    "s = {1}\n",
    "s.add(334)\n",
    "print(s)"
   ]
  },
  {
   "cell_type": "code",
   "execution_count": 47,
   "metadata": {},
   "outputs": [
    {
     "name": "stdout",
     "output_type": "stream",
     "text": [
      "4427714344\n",
      "4427714344\n",
      "set()\n"
     ]
    }
   ],
   "source": [
    "# clear\n",
    "s= {1,2,3,4,5}\n",
    "print(id(s))\n",
    "s.clear()\n",
    "print(id(s))\n",
    "print(s)\n",
    "# 结果表明clear函数是原地清空数据"
   ]
  },
  {
   "cell_type": "code",
   "execution_count": 50,
   "metadata": {},
   "outputs": [
    {
     "name": "stdout",
     "output_type": "stream",
     "text": [
      "{1, 2, 3, 5, 6}\n",
      "{1, 2, 3, 5, 6}\n",
      "********************\n"
     ]
    },
    {
     "ename": "KeyError",
     "evalue": "4",
     "output_type": "error",
     "traceback": [
      "\u001b[0;31m---------------------------------------------------------------------------\u001b[0m",
      "\u001b[0;31mKeyError\u001b[0m                                  Traceback (most recent call last)",
      "\u001b[0;32m<ipython-input-50-e3f07e3f82ab>\u001b[0m in \u001b[0;36m<module>\u001b[0;34m()\u001b[0m\n\u001b[1;32m     12\u001b[0m \u001b[0mprint\u001b[0m\u001b[0;34m(\u001b[0m\u001b[0;34m\"*\"\u001b[0m \u001b[0;34m*\u001b[0m \u001b[0;36m20\u001b[0m\u001b[0;34m)\u001b[0m\u001b[0;34m\u001b[0m\u001b[0m\n\u001b[1;32m     13\u001b[0m \u001b[0;34m\u001b[0m\u001b[0m\n\u001b[0;32m---> 14\u001b[0;31m \u001b[0ms\u001b[0m\u001b[0;34m.\u001b[0m\u001b[0mremove\u001b[0m\u001b[0;34m(\u001b[0m\u001b[0;36m4\u001b[0m\u001b[0;34m)\u001b[0m\u001b[0;34m\u001b[0m\u001b[0m\n\u001b[0m\u001b[1;32m     15\u001b[0m \u001b[0;31m# 报错\u001b[0m\u001b[0;34m\u001b[0m\u001b[0;34m\u001b[0m\u001b[0m\n",
      "\u001b[0;31mKeyError\u001b[0m: 4"
     ]
    }
   ],
   "source": [
    "# copy：拷贝\n",
    "# remove：移除指定的值，直接改变原有值，如果要删除的值不存在，报错\n",
    "# discard：移除集合中指定的值，跟remove一样，但是如果要删除的话，不报错\n",
    "# 两者有什么区别？\n",
    "s = {1,2,3,4,5,6}\n",
    "s.remove(4)\n",
    "print(s)\n",
    "s.discard(4)\n",
    "print(s)\n",
    "# 不报错\n",
    "\n",
    "print(\"*\" * 20)\n",
    "\n",
    "s.remove(4)\n",
    "# 报错"
   ]
  },
  {
   "cell_type": "code",
   "execution_count": 56,
   "metadata": {},
   "outputs": [
    {
     "name": "stdout",
     "output_type": "stream",
     "text": [
      "1\n",
      "{2, 3, 4, 5, 6, 7}\n"
     ]
    }
   ],
   "source": [
    "# pop 移除最前面的那个元素\n",
    "s = {1,2,3,4,5,6,7}\n",
    "d = s.pop()\n",
    "print(d)\n",
    "print(s)"
   ]
  },
  {
   "cell_type": "code",
   "execution_count": 61,
   "metadata": {},
   "outputs": [
    {
     "name": "stdout",
     "output_type": "stream",
     "text": [
      "{5, 6}\n",
      "{1, 2, 3, 4}\n",
      "True\n",
      "True\n"
     ]
    }
   ],
   "source": [
    "# 集合的基本运算\n",
    "# intersection：交集\n",
    "# difference：差集\n",
    "# union：并集\n",
    "# issubset：检查一个集合是否是另外一个的子集   （sub下面的）\n",
    "# issuperset：检查一个集合是否为另外一个的父集\n",
    "s1 = {1,2,3,4,5,6}\n",
    "s2 = {5,6,7,8,9}\n",
    "\n",
    "s_1 = s1.intersection(s2)\n",
    "print(s_1)\n",
    "s_1_dif = s1.difference(s2)\n",
    "print(s_1_dif)\n",
    "s_3 = s_1_dif.issubset(s1)\n",
    "print(s_3)\n",
    "s_4 = s1.issuperset(s_1)\n",
    "print(s_4)"
   ]
  },
  {
   "cell_type": "code",
   "execution_count": 64,
   "metadata": {},
   "outputs": [
    {
     "name": "stdout",
     "output_type": "stream",
     "text": [
      "{1, 2, 3, 4}\n"
     ]
    },
    {
     "ename": "TypeError",
     "evalue": "unsupported operand type(s) for +: 'set' and 'set'",
     "output_type": "error",
     "traceback": [
      "\u001b[0;31m---------------------------------------------------------------------------\u001b[0m",
      "\u001b[0;31mTypeError\u001b[0m                                 Traceback (most recent call last)",
      "\u001b[0;32m<ipython-input-64-cf71bace0569>\u001b[0m in \u001b[0;36m<module>\u001b[0;34m()\u001b[0m\n\u001b[1;32m      6\u001b[0m \u001b[0mprint\u001b[0m\u001b[0;34m(\u001b[0m\u001b[0ms_1\u001b[0m\u001b[0;34m)\u001b[0m\u001b[0;34m\u001b[0m\u001b[0m\n\u001b[1;32m      7\u001b[0m \u001b[0;34m\u001b[0m\u001b[0m\n\u001b[0;32m----> 8\u001b[0;31m \u001b[0ms_2\u001b[0m \u001b[0;34m=\u001b[0m \u001b[0ms1\u001b[0m \u001b[0;34m+\u001b[0m \u001b[0ms2\u001b[0m\u001b[0;34m\u001b[0m\u001b[0m\n\u001b[0m\u001b[1;32m      9\u001b[0m \u001b[0mprint\u001b[0m\u001b[0;34m(\u001b[0m\u001b[0ms_2\u001b[0m\u001b[0;34m)\u001b[0m  \u001b[0;31m#  加号是不支持的\u001b[0m\u001b[0;34m\u001b[0m\u001b[0m\n",
      "\u001b[0;31mTypeError\u001b[0m: unsupported operand type(s) for +: 'set' and 'set'"
     ]
    }
   ],
   "source": [
    "# 集合的数学操作\n",
    "s1 = {1,2,3,4,5,6}\n",
    "s2 = {5,6,7,8,9}\n",
    "\n",
    "s_1 = s1 - s2  # 相当于求差集\n",
    "print(s_1)\n",
    "\n",
    "s_2 = s1 + s2\n",
    "print(s_2)  #  加号是不支持的"
   ]
  },
  {
   "cell_type": "markdown",
   "metadata": {},
   "source": [
    "# frozen set：冰冻集合\n",
    "- 冰冻集合就是不可以进行任何修改的集合\n",
    "- frozenset是一种特殊集合"
   ]
  },
  {
   "cell_type": "code",
   "execution_count": 73,
   "metadata": {},
   "outputs": [
    {
     "name": "stdout",
     "output_type": "stream",
     "text": [
      "frozenset({1, 2, 3})\n",
      "1\n",
      "2\n",
      "3\n"
     ]
    }
   ],
   "source": [
    "# 创建\n",
    "s = frozenset({1,2,3})\n",
    "print(s)\n",
    "for i in s :\n",
    "    print(i)"
   ]
  },
  {
   "cell_type": "markdown",
   "metadata": {},
   "source": [
    "# dict字典\n",
    "- 字典是一种组合数据，没有顺序的组合数据，数据以键值对形式出现"
   ]
  },
  {
   "cell_type": "code",
   "execution_count": 83,
   "metadata": {},
   "outputs": [
    {
     "name": "stdout",
     "output_type": "stream",
     "text": [
      "{}\n",
      "<class 'dict'>\n",
      "{}\n",
      "{'one': 1, 'two': 2, 'three': 3}\n",
      "{'one': 1, 'two': 2, 'three': 3}\n",
      "{'one': 1, 'two': 2, 'three': 3}\n",
      "{'one': 1, 'two': 2, 'three': 3}\n"
     ]
    }
   ],
   "source": [
    "# 创建空字典\n",
    "d = {}\n",
    "print(d)\n",
    "print(type(d))\n",
    "\n",
    "d = dict()\n",
    "print(d)\n",
    "\n",
    "# 大括号里面是单个单个的东西的话就是集合set\n",
    "\n",
    "# 在字典里面放数据，必须是键值对\n",
    "# 每一组数据用冒号隔开，每一对键值对用逗号隔开\n",
    "d = {\"one\":1, \"two\":2, \"three\":3}\n",
    "print(d)\n",
    "\n",
    "# 用dict创建有内容的字典\n",
    "d = dict({\"one\":1, \"two\":2, \"three\":3})\n",
    "print(d)\n",
    "# 或者\n",
    "d = dict(one=1, two=2, three=3)\n",
    "print(d)\n",
    "# 或者\n",
    "d = dict([(\"one\",1), (\"two\",2),(\"three\",3)])\n",
    "print(d)"
   ]
  },
  {
   "cell_type": "markdown",
   "metadata": {},
   "source": [
    "# 字典的特征\n",
    "- 字典是序列类型，但是内部数据是无序序列，所以没有分片和索引\n",
    "- 字典中的数据每个都有键值对组成，即kv对\n",
    "    - key：必须是可哈希的值，比如int，string，float，tuple\n",
    "    - 但是，list，set，dict 不行\n",
    "    - value：任何值"
   ]
  },
  {
   "cell_type": "markdown",
   "metadata": {},
   "source": [
    "# 字典常见操作"
   ]
  },
  {
   "cell_type": "code",
   "execution_count": 89,
   "metadata": {},
   "outputs": [
    {
     "name": "stdout",
     "output_type": "stream",
     "text": [
      "1\n",
      "{'one': 'eins', 'two': 2, 'three': 3}\n",
      "{'two': 2, 'three': 3}\n"
     ]
    }
   ],
   "source": [
    "# 访问数据\n",
    "d = {\"one\":1, \"two\":2, \"three\":3}\n",
    "\n",
    "# 注意访问格式\n",
    "# 中括号内是键值\n",
    "print(d[\"one\"])\n",
    "\n",
    "d[\"one\"] = \"eins\"\n",
    "print(d)\n",
    "\n",
    "# 删除某个操作\n",
    "# 使用del操作\n",
    "del d[\"one\"]\n",
    "print(d)"
   ]
  },
  {
   "cell_type": "code",
   "execution_count": 91,
   "metadata": {},
   "outputs": [
    {
     "name": "stdout",
     "output_type": "stream",
     "text": [
      "key\n"
     ]
    }
   ],
   "source": [
    "# 成员检测， in, not in\n",
    "d = {\"one\":1, \"two\":2, \"three\":3}\n",
    "\n",
    "if 2 in d :\n",
    "    print(\"value\")\n",
    "\n",
    "if \"two\" in d :\n",
    "    print(\"key\")\n",
    "    \n",
    "if (\"two\", 2) in d :\n",
    "    print(\"kv\")\n",
    "\n",
    "# 也就是说，我们成员检测的时候，检查的键，而不是值"
   ]
  },
  {
   "cell_type": "code",
   "execution_count": 100,
   "metadata": {},
   "outputs": [
    {
     "name": "stdout",
     "output_type": "stream",
     "text": [
      "one -- 1\n",
      "two -- 2\n",
      "three -- 3\n",
      "one -- 1\n",
      "two -- 2\n",
      "three -- 3\n",
      "1\n",
      "2\n",
      "3\n",
      "one -- 1\n",
      "two -- 2\n",
      "three -- 3\n"
     ]
    }
   ],
   "source": [
    "# 遍历在python2 和python3 中区别比较大，代码不通用\n",
    "\n",
    "# 按key来使用for循环\n",
    "d = {\"one\":1, \"two\":2, \"three\":3}\n",
    "for k in d :\n",
    "    print(k, \"--\", d[k])\n",
    "    \n",
    "# 上述代码可以改写成如下\n",
    "for k in d.keys() :\n",
    "    print(k, \"--\", d[k])\n",
    "\n",
    "# 只访问字典的值\n",
    "for v in d.values() :\n",
    "    print(v)\n",
    "    \n",
    "# 注意以下特殊用法\n",
    "for k, v in d .items() :\n",
    "    print(k, \"--\", v)"
   ]
  },
  {
   "cell_type": "markdown",
   "metadata": {},
   "source": [
    "# 字典的生成式"
   ]
  },
  {
   "cell_type": "code",
   "execution_count": 103,
   "metadata": {},
   "outputs": [
    {
     "name": "stdout",
     "output_type": "stream",
     "text": [
      "{'one': 1, 'two': 2, 'three': 3}\n",
      "{'two': 2}\n"
     ]
    }
   ],
   "source": [
    "d = {\"one\":1, \"two\":2, \"three\":3} \n",
    "\n",
    "# 常规字典生成式 \n",
    "dd = {k:v for k,v in d.items()}\n",
    "print(dd)\n",
    "\n",
    "# 这种方法的目的其实是加限制条件，自动过滤一些东西\n",
    "dd = {k:v for k,v in d.items() if v%2 == 0}\n",
    "print(dd)\n",
    "#这才是这种生成式的正确打开条件"
   ]
  },
  {
   "cell_type": "markdown",
   "metadata": {},
   "source": [
    "# 关于字典相关函数"
   ]
  },
  {
   "cell_type": "code",
   "execution_count": 105,
   "metadata": {},
   "outputs": [
    {
     "name": "stdout",
     "output_type": "stream",
     "text": [
      "{'one': 1, 'two': 2, 'three': 3}\n",
      "<class 'str'>\n"
     ]
    }
   ],
   "source": [
    "# 通用函数：len, max, min, dict\n",
    "# str(字典)：返回字典的字符串格式\n",
    "d = {\"one\":1, \"two\":2, \"three\":3}\n",
    "print(str(d))\n",
    "print(type(str(d)))"
   ]
  },
  {
   "cell_type": "code",
   "execution_count": 107,
   "metadata": {},
   "outputs": [
    {
     "name": "stdout",
     "output_type": "stream",
     "text": [
      "<class 'dict_items'>\n",
      "dict_items([('one', 1), ('two', 2), ('three', 3)])\n"
     ]
    }
   ],
   "source": [
    "# clear：清空字典\n",
    "# items：返回字典的键值对组成的元组格式\n",
    "d = {\"one\":1, \"two\":2, \"three\":3}\n",
    "i = d.items()\n",
    "print(type(i))\n",
    "print(i)"
   ]
  },
  {
   "cell_type": "code",
   "execution_count": 109,
   "metadata": {},
   "outputs": [
    {
     "name": "stdout",
     "output_type": "stream",
     "text": [
      "<class 'dict_keys'>\n",
      "dict_keys(['one', 'two', 'three'])\n"
     ]
    }
   ],
   "source": [
    "# keys：返回字典的键组成的一个结构\n",
    "d = {\"one\":1, \"two\":2, \"three\":3}\n",
    "k = d.keys()\n",
    "print(type(k))\n",
    "print(k)"
   ]
  },
  {
   "cell_type": "code",
   "execution_count": 111,
   "metadata": {},
   "outputs": [
    {
     "name": "stdout",
     "output_type": "stream",
     "text": [
      "<class 'dict_values'>\n",
      "dict_values([1, 2, 3])\n"
     ]
    }
   ],
   "source": [
    "# values：返回字典的值组成的一个结构\n",
    "# 同理，上述两个加上这个都是得到一个可跌倒的结构\n",
    "v = d.values()\n",
    "print(type(v))\n",
    "print(v)"
   ]
  },
  {
   "cell_type": "code",
   "execution_count": 116,
   "metadata": {},
   "outputs": [
    {
     "name": "stdout",
     "output_type": "stream",
     "text": [
      "1\n",
      "1\n",
      "100\n"
     ]
    },
    {
     "ename": "KeyError",
     "evalue": "'one333'",
     "output_type": "error",
     "traceback": [
      "\u001b[0;31m---------------------------------------------------------------------------\u001b[0m",
      "\u001b[0;31mKeyError\u001b[0m                                  Traceback (most recent call last)",
      "\u001b[0;32m<ipython-input-116-bedb4ef55b45>\u001b[0m in \u001b[0;36m<module>\u001b[0;34m()\u001b[0m\n\u001b[1;32m     11\u001b[0m \u001b[0;34m\u001b[0m\u001b[0m\n\u001b[1;32m     12\u001b[0m \u001b[0;31m# 如果用下面的那个，代码一旦出错就废了\u001b[0m\u001b[0;34m\u001b[0m\u001b[0;34m\u001b[0m\u001b[0m\n\u001b[0;32m---> 13\u001b[0;31m \u001b[0mprint\u001b[0m\u001b[0;34m(\u001b[0m\u001b[0md\u001b[0m\u001b[0;34m[\u001b[0m\u001b[0;34m\"one333\"\u001b[0m\u001b[0;34m]\u001b[0m\u001b[0;34m)\u001b[0m\u001b[0;34m\u001b[0m\u001b[0m\n\u001b[0m",
      "\u001b[0;31mKeyError\u001b[0m: 'one333'"
     ]
    }
   ],
   "source": [
    "# get：根据指定键返回想要的值\n",
    "# get的好处是，可以设置默认值\n",
    "\n",
    "d = {\"one\":1, \"two\":2, \"three\":3}\n",
    "print(d.get(\"one\"))\n",
    "print(d[\"one\"])\n",
    "\n",
    "# get默认值是None，可以设置\n",
    "print(d.get(\"one333\", 100))  \n",
    "# 去d中寻找\"one333\"，如果找不到就返回默认值100\n",
    "\n",
    "# 如果用下面的那个，代码一旦出错就废了\n",
    "print(d[\"one333\"])"
   ]
  },
  {
   "cell_type": "code",
   "execution_count": 118,
   "metadata": {},
   "outputs": [
    {
     "name": "stdout",
     "output_type": "stream",
     "text": [
      "{'eins': 'hahahah', 'Zwei': 'hahahah', 'dree': 'hahahah'}\n"
     ]
    }
   ],
   "source": [
    "# fromkeys：使用指定的序列作为键，使用一个值作为字典的所有键的值\n",
    "l = [\"eins\", \"Zwei\", \"dree\"]\n",
    "\n",
    "# 注意fromkeys两个参数的类型\n",
    "# 注意fromkeys的调用主体\n",
    "d = dict.fromkeys(l, \"hahahah\")\n",
    "print(d)"
   ]
  }
 ],
 "metadata": {
  "kernelspec": {
   "display_name": "Python 3",
   "language": "python",
   "name": "python3"
  },
  "language_info": {
   "codemirror_mode": {
    "name": "ipython",
    "version": 3
   },
   "file_extension": ".py",
   "mimetype": "text/x-python",
   "name": "python",
   "nbconvert_exporter": "python",
   "pygments_lexer": "ipython3",
   "version": "3.6.5"
  }
 },
 "nbformat": 4,
 "nbformat_minor": 2
}
