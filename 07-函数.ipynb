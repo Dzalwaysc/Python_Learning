{
 "cells": [
  {
   "cell_type": "markdown",
   "metadata": {},
   "source": [
    "# 四类参数\n",
    "- 普通参数\n",
    "- 默认参数\n",
    "- 关键字参数\n",
    "- 收集参数\n",
    "\n",
    "## 关键字参数开始\n",
    "- 语法\n",
    "            \n",
    "                def func(p1=v1, p2=v2, ....) :\n",
    "                       func_body\n",
    "                       \n",
    "                 调用函数：\n",
    "                 func(p1=value1, p2=value2, ....)\n",
    "- 比较麻烦，但也又好处：\n",
    "    - 不容易混淆，一般实参和形参只是按照位置一一对应即可，容易出错\n",
    "    - 使用关键字参数，可以不考虑参数位置"
   ]
  },
  {
   "cell_type": "code",
   "execution_count": 6,
   "metadata": {},
   "outputs": [
    {
     "name": "stdout",
     "output_type": "stream",
     "text": [
      "I am a student\n",
      "my name is jingjing, 18 years old, live in my home\n",
      "I am a student\n",
      "my name is 18, jingjing years old, live in my home\n",
      "I am a student\n",
      "my name is jingjing, 18 years old, live in my home\n"
     ]
    }
   ],
   "source": [
    "# 关键字参数案例\n",
    "def stu(name, age, addr) :\n",
    "    print(\"I am a student\")\n",
    "    print( \"my name is {0}, {1} years old, live in {2}\".format(name, age, addr) )\n",
    "    \n",
    "n = \"jingjing\"\n",
    "a = 18\n",
    "addr = \"my home\"\n",
    "\n",
    "stu(n, a, addr)   \n",
    "stu(a, n, addr)  #这就把参数位置放反了\n",
    "#---------以上是默认形式，这是普通形参和实参的弊端\n",
    "\n",
    "def stu_key(name=\"No name\", age=0, addr=\"No addr\") :\n",
    "    print(\"I am a student\")\n",
    "    print( \"my name is {0}, {1} years old, live in {2}\".format(name, age, addr) )\n",
    "    \n",
    "n = \"jingjing\"\n",
    "a = 18\n",
    "addr = \"my home\"\n",
    "\n",
    "stu_key(age=a,name=n, addr=addr)   \n",
    "#---------此时就算参数的位置错误了，也能正确输出了"
   ]
  },
  {
   "cell_type": "markdown",
   "metadata": {},
   "source": [
    "## 收集参数\n",
    "- 把没有位置，不能和定义时的参数位置相对应的参数，放入一个特定的数据结构中\n",
    "- 语法\n",
    "            \n",
    "            \n",
    "            def func(*args) :\n",
    "                func_body\n",
    "                按照list使用方式访问args得到传入的参数\n",
    "                \n",
    "            调用 : \n",
    "            func(p1, p2, p3, ...)\n",
    "            \n",
    "- 参数名args不是必须这么写，但是，我们推荐直接用args，约定俗成\n",
    "- 参数名args前必须有星号，表明这是一个收集参数\n",
    "- 收集参数可以和其他参数共存"
   ]
  },
  {
   "cell_type": "code",
   "execution_count": 40,
   "metadata": {},
   "outputs": [
    {
     "name": "stdout",
     "output_type": "stream",
     "text": [
      "Hello 大家好，我自我介绍一下，简单说两句\n",
      "<class 'tuple'>\n",
      "明月\n",
      "18\n",
      "北京大通州区\n",
      "王晓静\n",
      "单身\n",
      "Hello 大家好，我自我介绍一下，简单说两句\n",
      "<class 'tuple'>\n"
     ]
    }
   ],
   "source": [
    "# 收集参数代码\n",
    "# 函数模拟一个学生进行自我介绍，但是具体内容不清楚\n",
    "# args把它看作一个list\n",
    "def stu_collect(*args) :\n",
    "    print(\"Hello 大家好，我自我介绍一下，简单说两句\")\n",
    "    # type函数作用是检测变量的类型\n",
    "    print(type(args))\n",
    "    for item in args :\n",
    "        print(item)\n",
    "        \n",
    "stu_collect(\"明月\", 18, \"北京大通州区\", \"王晓静\", \"单身\") \n",
    "        \n",
    "#stu_collect(\"周大神\")\n",
    "\n",
    "stu_collect()   #说明收集参数可以不带任何实参调用，此时收集参数为空tuple"
   ]
  },
  {
   "cell_type": "code",
   "execution_count": 41,
   "metadata": {},
   "outputs": [
    {
     "ename": "TypeError",
     "evalue": "stu_collect() got an unexpected keyword argument 'name'",
     "output_type": "error",
     "traceback": [
      "\u001b[0;31m---------------------------------------------------------------------------\u001b[0m",
      "\u001b[0;31mTypeError\u001b[0m                                 Traceback (most recent call last)",
      "\u001b[0;32m<ipython-input-41-e6d5b3c7dc97>\u001b[0m in \u001b[0;36m<module>\u001b[0;34m()\u001b[0m\n\u001b[1;32m      1\u001b[0m \u001b[0;31m# 如果使用关键字参数格式调用，会出现问题\u001b[0m\u001b[0;34m\u001b[0m\u001b[0;34m\u001b[0m\u001b[0m\n\u001b[0;32m----> 2\u001b[0;31m \u001b[0mstu_collect\u001b[0m\u001b[0;34m(\u001b[0m\u001b[0mname\u001b[0m\u001b[0;34m=\u001b[0m\u001b[0;34m\"liuying\"\u001b[0m\u001b[0;34m)\u001b[0m   \u001b[0;31m#会报错，因为这个参数带了关键字了\u001b[0m\u001b[0;34m\u001b[0m\u001b[0m\n\u001b[0m",
      "\u001b[0;31mTypeError\u001b[0m: stu_collect() got an unexpected keyword argument 'name'"
     ]
    }
   ],
   "source": [
    "# 如果使用关键字参数格式调用，会出现问题\n",
    "stu_collect(name=\"liuying\")   #会报错，因为这个参数带了关键字了"
   ]
  },
  {
   "cell_type": "markdown",
   "metadata": {},
   "source": [
    "### 收集参数之关键字收集参数\n",
    "- 把关键字参数按字典格式存入收集参数\n",
    "- 语法：\n",
    "            \n",
    "            def func(**kwargs) :\n",
    "                func_body\n",
    "                \n",
    "            #调用：\n",
    "            func(p1=v1, p2=v1, p3=v3, ...)\n",
    "- kwargs一般约定俗成\n",
    "- 调用的时候，把多余的关键字参数放入kwargs\n",
    "- 访问kwargs需要按字典格式访问"
   ]
  },
  {
   "cell_type": "code",
   "execution_count": 25,
   "metadata": {},
   "outputs": [
    {
     "name": "stdout",
     "output_type": "stream",
     "text": [
      "Hello 大家好，我先自我介绍一下：\n",
      "<class 'dict'>\n",
      "name --- 六英\n",
      "age --- 19\n",
      "lover --- 王晓静\n",
      "work --- 老师\n",
      "**************************************************\n",
      "Hello 大家好，我先自我介绍一下：\n",
      "<class 'dict'>\n",
      "name --- 周大神\n"
     ]
    }
   ],
   "source": [
    "# 收集参数案例额\n",
    "# 自我介绍\n",
    "# 调用的时候需要使用关键字参数调用\n",
    "def stu(**kwargs) : \n",
    "    # 在函数体内对于kwargs的使用不用带星号\n",
    "    print(\"Hello 大家好，我先自我介绍一下：\")\n",
    "    print(type( kwargs) )\n",
    "    # 对于字典的访问，python2和python3有区别 \n",
    "    for k, v in kwargs.items() :\n",
    "        print(k, \"-\"*3, v)\n",
    "\n",
    "stu(name=\"六英\", age=19, addr=\"北京大通州区\", lover=\"王晓静\", work=\"老师\")\n",
    "\n",
    "print(\"*\" * 50)   #字符串乘法，即重复的意思\n",
    "\n",
    "stu(name=\"周大神\")\n",
    "\n",
    "stu()  #同样可以为空案例"
   ]
  },
  {
   "cell_type": "markdown",
   "metadata": {},
   "source": [
    "### 收集参数混合调用的顺序问题\n",
    "- 收集参数，关键字参数，普通参数可以混合使用\n",
    "- 使用规则就是，普通参数和关键字参数优先\n",
    "- 定义的时候一般找普通参数，关键字参数，收集参数tuple，收集参数dict"
   ]
  },
  {
   "cell_type": "code",
   "execution_count": 42,
   "metadata": {},
   "outputs": [
    {
     "name": "stdout",
     "output_type": "stream",
     "text": [
      "Hello 大家好\n",
      "我叫明月, 我今年18了。\n",
      "我没有爱好，很遗憾。\n",
      "********************\n",
      "王晓静\n",
      "刘石头\n",
      "####################\n",
      "hobby2 --- 烹饪\n",
      "hobby3 --- 跟不同女生聊天\n"
     ]
    }
   ],
   "source": [
    "# 收集参数混合调用案例\n",
    "# stu模拟一个学生的自我介绍\n",
    "#函数定义的时候参数的位置是有讲究的\n",
    "#先是普通的参数，然后是tuple型收集参数\n",
    "#然后是关键字参数，最后是dict型收集参数\n",
    "def stu(name, age, *args, hobby=\"没有\", **kwargs) :\n",
    "    print(\"Hello 大家好\")\n",
    "    print(\"我叫{0}, 我今年{1}了。\".format(name, age))\n",
    "    if hobby == \"没有\" : \n",
    "        print(\"我没有爱好，很遗憾。\")\n",
    "    else :\n",
    "        print(\"我的爱好是{0}。\".format(hobby))\n",
    "        \n",
    "    print(\"*\" * 20)\n",
    "    \n",
    "    for i in args :\n",
    "        print(i)\n",
    "    \n",
    "    print(\"#\" * 20)\n",
    "    \n",
    "    for k, v in kwargs.items() :\n",
    "        print(k, \"---\", v)\n",
    "        \n",
    "# 开始调用函数\n",
    "name = \"明月\"\n",
    "age = 18\n",
    "stu(name, age, \"王晓静\", \"刘石头\", hobby2=\"烹饪\", hobby3=\"跟不同女生聊天\")\n"
   ]
  },
  {
   "cell_type": "markdown",
   "metadata": {},
   "source": [
    "### 收集参数的解包问题\n",
    "- 把参数放入list或者字典中，直接把list/dict中的值放入收集参数中\n",
    "- 语法：参考案例"
   ]
  },
  {
   "cell_type": "code",
   "execution_count": 9,
   "metadata": {},
   "outputs": [
    {
     "name": "stdout",
     "output_type": "stream",
     "text": [
      "哈哈哈哈\n",
      "<class 'str'>\n",
      "0\n",
      "('刘英',)\n",
      "<class 'int'>\n",
      "1\n",
      "(20,)\n",
      "<class 'int'>\n",
      "2\n",
      "(230,)\n"
     ]
    }
   ],
   "source": [
    "# 收集参数的解包问题\n",
    "\n",
    "def stu_list(*args) :\n",
    "    print(\"哈哈哈哈\")\n",
    "    n = 0\n",
    "    for i in zip(*args) :\n",
    "        print(type(*i))\n",
    "        print(n)\n",
    "        n += 1\n",
    "        print(i)\n",
    "        \n",
    "l = list()\n",
    "l.append(\"刘英\")\n",
    "l.append(20)\n",
    "l.append(230)\n",
    "\n",
    "stu_list(l)\n",
    "# 此时，args的表示形式是tuple内一个list类型的元素即args = ([\"刘英\",20,230])\n",
    "# 很显然跟我们最初的想法违背\n",
    "\n",
    "# 此时的调用，我们就需要解包符号，即调用的时候加符号"
   ]
  },
  {
   "cell_type": "markdown",
   "metadata": {},
   "source": [
    "# 返回值\n",
    "- 函数和过程的区别\n",
    "    - 有无返回值\n",
    "- 需要用return显示返回内容，\n",
    "- 如果没有返回，则默认返回None\n",
    "- 推荐写法，无论有无返回值，最后都以reeturn结束"
   ]
  },
  {
   "cell_type": "code",
   "execution_count": null,
   "metadata": {},
   "outputs": [],
   "source": [
    "def func_1() :\n",
    "    print(\"有返回值呀\")\n",
    "    return 1\n",
    "\n",
    "def func_2() :\n",
    "    print(\"没有返回值\")\n",
    "    \n",
    "f1 = func_1()\n",
    "print(f1)\n",
    "\n",
    "f2 = func_2()\n",
    "print(f2)"
   ]
  },
  {
   "cell_type": "markdown",
   "metadata": {},
   "source": [
    "# 函数文档\n",
    "- 函数的文档的作用是对当前函数提供相关的参考信息\n",
    "- 文档的写法：\n",
    "    - 在函数内部开始的第一行使用三字符串定义符\n",
    "    - 一般具有特定格式\n",
    "    - 参看案例\n",
    "- 文档查看\n",
    "    - 使用help()函数，形如 help(func)\n",
    "    - 使用doc，形如func.双下划线doc双下划线，具体参考案例"
   ]
  },
  {
   "cell_type": "code",
   "execution_count": 16,
   "metadata": {},
   "outputs": [],
   "source": [
    "# 文档案例\n",
    "# 函数stu是模拟一个学生的自我介绍的内容\n",
    "def stu(name, age, *args) :\n",
    "    '''\n",
    "    这是第一行\n",
    "    这是第二行\n",
    "    这是第三行\n",
    "    '''\n",
    "    print(\"This is function stu\")"
   ]
  },
  {
   "cell_type": "code",
   "execution_count": 17,
   "metadata": {},
   "outputs": [
    {
     "name": "stdout",
     "output_type": "stream",
     "text": [
      "Help on function stu in module __main__:\n",
      "\n",
      "stu(name, age, *args)\n",
      "    这是第一行\n",
      "    这是第二行\n",
      "    这是第三行\n",
      "\n"
     ]
    },
    {
     "data": {
      "text/plain": [
       "'\\n    这是第一行\\n    这是第二行\\n    这是第三行\\n    '"
      ]
     },
     "execution_count": 17,
     "metadata": {},
     "output_type": "execute_result"
    }
   ],
   "source": [
    "# 查看函数文档\n",
    "help(stu)\n",
    "stu.__doc__"
   ]
  }
 ],
 "metadata": {
  "kernelspec": {
   "display_name": "Python 3",
   "language": "python",
   "name": "python3"
  },
  "language_info": {
   "codemirror_mode": {
    "name": "ipython",
    "version": 3
   },
   "file_extension": ".py",
   "mimetype": "text/x-python",
   "name": "python",
   "nbconvert_exporter": "python",
   "pygments_lexer": "ipython3",
   "version": "3.6.5"
  }
 },
 "nbformat": 4,
 "nbformat_minor": 2
}
