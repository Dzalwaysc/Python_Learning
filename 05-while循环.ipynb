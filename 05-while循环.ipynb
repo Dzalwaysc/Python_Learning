{
 "cells": [
  {
   "cell_type": "markdown",
   "metadata": {},
   "source": [
    "# while循环\n",
    "- 一个循环语句\n",
    "- 表示当某条件成立的时候，就循环\n",
    "- 不知道具体循环次数，但能确定循环的成立条件的时候用while循环\n",
    "- while语法:\n",
    "            \n",
    "            while 条件表达式:\n",
    "                    语句块\n",
    "            \n",
    "            #另外一种表达方法\n",
    "            while 条件表达式:\n",
    "                    语句块1\n",
    "            else :\n",
    "                    语句块2\n",
    "                 "
   ]
  },
  {
   "cell_type": "code",
   "execution_count": 10,
   "metadata": {
    "scrolled": true
   },
   "outputs": [
    {
     "name": "stdout",
     "output_type": "stream",
     "text": [
      "第1年拿了10670.0块钱\n",
      "第2年拿了11384.89块钱\n",
      "第3年拿了12147.677629999998块钱\n",
      "第4年拿了12961.572031209998块钱\n",
      "第5年拿了13829.997357301068块钱\n",
      "第6年拿了14756.607180240238块钱\n",
      "第7年拿了15745.299861316334块钱\n",
      "第8年拿了16800.23495202453块钱\n",
      "第9年拿了17925.85069381017块钱\n",
      "第10年拿了19126.88269029545块钱\n",
      "第11年拿了20408.383830545245块钱\n",
      "大爷的，终于翻倍了，10多年呀\n",
      "当年10万可以盖个房子，现在儿子结婚，20万可以给他盖个厨房了\n"
     ]
    }
   ],
   "source": [
    "# 如果说年利率是6.7%，本利是每年翻滚，则多少年后本钱会翻倍\n",
    "\n",
    "benqian = 10000\n",
    "year = 0\n",
    "while benqian < 20000 :\n",
    "    benqian = benqian * (1+0.067)\n",
    "    year += 1 \n",
    "    print(\"第{0}年拿了{1}块钱\".format(year, benqian))\n",
    "else :\n",
    "    print(\"大爷的，终于翻倍了，10多年呀\")\n",
    "    print(\"当年10万可以盖个房子，现在儿子结婚，20万可以给他盖个厨房了\")"
   ]
  },
  {
   "cell_type": "markdown",
   "metadata": {},
   "source": [
    "# 函数\n",
    "- 代码的一种组织形式\n",
    "- 一个函数一般完成一项特定的功能\n",
    "- 函数定义\n",
    "- 函数使用\n",
    "    - 函数需要先定义\n",
    "    - 使用函数，俗称调用"
   ]
  },
  {
   "cell_type": "code",
   "execution_count": 11,
   "metadata": {},
   "outputs": [],
   "source": [
    "# 定义一个函数\n",
    "# 只是定义的话不会执行\n",
    "# 1. def关键字， 后跟一个空格\n",
    "# 2. 函数名，自己定义，起名需要遵循命名规则，约定，大驼峰命名只给类用\n",
    "# 3.后面括号和冒号不能省，括号内可以有参数\n",
    "# 4.函数内所有代码缩进\n",
    "\n",
    "def func():\n",
    "    print(\"我是一个函数\")\n",
    "    print(\"我要完成一定功能\")\n",
    "    print(\"我结束了\")"
   ]
  },
  {
   "cell_type": "code",
   "execution_count": 12,
   "metadata": {},
   "outputs": [
    {
     "name": "stdout",
     "output_type": "stream",
     "text": [
      "我是一个函数\n",
      "我要完成一定功能\n",
      "我结束了\n"
     ]
    }
   ],
   "source": [
    "# 函数的调用\n",
    "# 直接函数名后面跟括号\n",
    "func()"
   ]
  },
  {
   "cell_type": "markdown",
   "metadata": {},
   "source": [
    "### 函数的参数和返回值\n",
    "- 参数：负责给函数传递一些必要的数据或者信息\n",
    "    - 行参（形式参数）：在函数定义的时候用到的参数没有具体值，只是一个占位的符号\n",
    "    - 实参（实际参数）：在调用函数的时候输入的值\n",
    "- 返回值：函数的执行结束\n",
    "    - 使用return关键字\n",
    "    - 如果没有return，默认返回一个None\n",
    "    - 函数一旦执行return语句，则无条件返回，即结束函数运行"
   ]
  },
  {
   "cell_type": "code",
   "execution_count": 16,
   "metadata": {},
   "outputs": [
    {
     "name": "stdout",
     "output_type": "stream",
     "text": [
      "明月,你肿么咧\n",
      "Sir，你不理我我就走咧\n"
     ]
    }
   ],
   "source": [
    "# 参数的定义和使用\n",
    "\n",
    "def hello(person) :\n",
    "    print(\"{0},你肿么咧\".format(person))\n",
    "    print(\"Sir，你不理我我就走咧\")\n",
    "\n",
    "p = '明月'\n",
    "hello(p)"
   ]
  },
  {
   "cell_type": "code",
   "execution_count": 19,
   "metadata": {},
   "outputs": [
    {
     "name": "stdout",
     "output_type": "stream",
     "text": [
      "明月,你肿么咧\n",
      "Sir，你不理我我就走咧\n",
      "我已经跟他打招呼了，明月不理我\n"
     ]
    }
   ],
   "source": [
    "# return语句的基本使用\n",
    "# 函数打完招呼后返回一句话\n",
    "def hello(person) :\n",
    "    print(\"{0},你肿么咧\".format(person))\n",
    "    print(\"Sir，你不理我我就走咧\")\n",
    "\n",
    "    return \"我已经跟他打招呼了，{1}不理我\".format(person,person)\n",
    "    \n",
    "p = '明月'\n",
    "rst = hello(p)\n",
    "\n",
    "print(rst)"
   ]
  },
  {
   "cell_type": "code",
   "execution_count": 30,
   "metadata": {},
   "outputs": [
    {
     "name": "stdout",
     "output_type": "stream",
     "text": [
      "明月,你肿么咧\n",
      "哈哈，我提前结束了\n"
     ]
    }
   ],
   "source": [
    "# return案例2\n",
    "\n",
    "def hello(person) :\n",
    "    print(\"{0},你肿么咧\".format(person))\n",
    "    return \"哈哈，我提前结束了\"\n",
    "    print(\"Sir，你不理我我就走咧\")\n",
    "\n",
    "    return \"我已经跟他打招呼了，{1}不理我\".format(person,person)\n",
    "\n",
    "person = '明月'\n",
    "rst = hello(person)\n",
    "print(rst)"
   ]
  },
  {
   "cell_type": "code",
   "execution_count": 32,
   "metadata": {},
   "outputs": [
    {
     "name": "stdout",
     "output_type": "stream",
     "text": [
      "Help on built-in function print in module builtins:\n",
      "\n",
      "print(...)\n",
      "    print(value, ..., sep=' ', end='\\n', file=sys.stdout, flush=False)\n",
      "    \n",
      "    Prints the values to a stream, or to sys.stdout by default.\n",
      "    Optional keyword arguments:\n",
      "    file:  a file-like object (stream); defaults to the current sys.stdout.\n",
      "    sep:   string inserted between values, default a space.\n",
      "    end:   string appended after the last value, default a newline.\n",
      "    flush: whether to forcibly flush the stream.\n",
      "\n",
      "18 hello\n"
     ]
    }
   ],
   "source": [
    "# 查找函数帮助文档\n",
    "# 1. 用help函数\n",
    "help(print)"
   ]
  },
  {
   "cell_type": "code",
   "execution_count": 56,
   "metadata": {},
   "outputs": [
    {
     "name": "stdout",
     "output_type": "stream",
     "text": [
      " 1   ----------------\n",
      " 2    4   ----------------\n",
      " 3    6    9   ----------------\n",
      " 4    8   12   16   ----------------\n",
      " 5   10   15   20   25   ----------------\n",
      " 6   12   18   24   30   36   ----------------\n",
      " 7   14   21   28   35   42   49   ----------------\n",
      " 8   16   24   32   40   48   56   64   ----------------\n",
      " 9   18   27   36   45   54   63   72   81   ----------------\n"
     ]
    }
   ],
   "source": [
    "# 九九乘法表\n",
    "# version 1.0\n",
    "for row in range(1,10) :\n",
    "    #打印一行\n",
    "    for col in range(1,row+1) :\n",
    "        # print函数默认人物打印完毕后换行\n",
    "        #print(row*col, end = ' ')\n",
    "        print(\"%2d\" % (row*col), end = '   ')\n",
    "    print(\"----------------\")"
   ]
  },
  {
   "cell_type": "code",
   "execution_count": 1,
   "metadata": {},
   "outputs": [
    {
     "name": "stdout",
     "output_type": "stream",
     "text": [
      "  01 \n",
      "  02   04 \n",
      "  03   06   09 \n",
      "  04   08   12   16 \n",
      "  05   10   15   20   25 \n",
      "  06   12   18   24   30   36 \n",
      "  07   14   21   28   35   42   49 \n",
      "  08   16   24   32   40   48   56   64 \n",
      "  09   18   27   36   45   54   63   72   81 \n"
     ]
    }
   ],
   "source": [
    "# 定义一个函数，打印一行九九乘法表\n",
    "def printLine(row) :\n",
    "    for col in range(1,row+1) :\n",
    "        print(\"%4.2d\" %(row*col), end = ' ')            \n",
    "    print(\"\")\n",
    "    pass\n",
    "\n",
    "for row in range(1,10):\n",
    "    printLine(row)"
   ]
  },
  {
   "cell_type": "markdown",
   "metadata": {},
   "source": [
    "## 参考详解\n",
    "- [参考资料]（http://www.cnblogs.com/bingabcd/p/6671368.html）\n",
    "- python参考资料：headfirst python \n",
    "\n",
    "\n",
    "-默认参数\n",
    "    - 形参带有默认值\n",
    "    - 调用的时候，如果没有对相应形参赋值，则使用默认参数\n",
    "    \n",
    "                            def func_name(p1=v1, p2=v2, .........);\n",
    "                                func_block\n",
    "                                \n",
    "                            #调用1\n",
    "                            func_name()\n",
    "                            \n",
    "                            #调用2\n",
    "                            value1 = 100\n",
    "                            value2 = 200\n",
    "                            func_name(value1,value2)"
   ]
  },
  {
   "cell_type": "code",
   "execution_count": 4,
   "metadata": {},
   "outputs": [
    {
     "name": "stdout",
     "output_type": "stream",
     "text": [
      "性别为woman，名字为明月，年龄为18\n"
     ]
    }
   ],
   "source": [
    "# 默认参数示例\n",
    "def reg(name, age, gender=\"male\") :\n",
    "    print(\"性别为{2}，名字为{0}，年龄为{1}\".format(name, age,gender))\n",
    "    \n",
    "reg(\"明月\", \"18\")"
   ]
  }
 ],
 "metadata": {
  "kernelspec": {
   "display_name": "Python 3",
   "language": "python",
   "name": "python3"
  },
  "language_info": {
   "codemirror_mode": {
    "name": "ipython",
    "version": 3
   },
   "file_extension": ".py",
   "mimetype": "text/x-python",
   "name": "python",
   "nbconvert_exporter": "python",
   "pygments_lexer": "ipython3",
   "version": "3.6.5"
  }
 },
 "nbformat": 4,
 "nbformat_minor": 2
}
