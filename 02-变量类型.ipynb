{
 "cells": [
  {
   "cell_type": "code",
   "execution_count": 2,
   "metadata": {},
   "outputs": [
    {
     "data": {
      "text/plain": [
       "['False',\n",
       " 'None',\n",
       " 'True',\n",
       " 'and',\n",
       " 'as',\n",
       " 'assert',\n",
       " 'break',\n",
       " 'class',\n",
       " 'continue',\n",
       " 'def',\n",
       " 'del',\n",
       " 'elif',\n",
       " 'else',\n",
       " 'except',\n",
       " 'finally',\n",
       " 'for',\n",
       " 'from',\n",
       " 'global',\n",
       " 'if',\n",
       " 'import',\n",
       " 'in',\n",
       " 'is',\n",
       " 'lambda',\n",
       " 'nonlocal',\n",
       " 'not',\n",
       " 'or',\n",
       " 'pass',\n",
       " 'raise',\n",
       " 'return',\n",
       " 'try',\n",
       " 'while',\n",
       " 'with',\n",
       " 'yield']"
      ]
     },
     "execution_count": 2,
     "metadata": {},
     "output_type": "execute_result"
    }
   ],
   "source": [
    "# 查看关键字的方法\n",
    "import keyword #引入关键字模块\n",
    "keyword.kwlist"
   ]
  },
  {
   "cell_type": "markdown",
   "metadata": {},
   "source": [
    "## 变量声明\n",
    "- var_name = var_value \n",
    "- var1, var2, var3 = v1, v2, v3"
   ]
  },
  {
   "cell_type": "code",
   "execution_count": 5,
   "metadata": {},
   "outputs": [
    {
     "name": "stdout",
     "output_type": "stream",
     "text": [
      "18\n",
      "18\n",
      "18\n",
      "18\n",
      "18\n",
      "12\n",
      "21\n",
      "abc\n"
     ]
    }
   ],
   "source": [
    "# 定义变了 age  把18放入变量age中\n",
    "age = 18\n",
    "print(age)\n",
    "print(18)\n",
    "\n",
    "# 给age1, age2, age3 放入同样一个内容或值\n",
    "age1 = age2 = age3 =18\n",
    "print(age1)\n",
    "print(age2)\n",
    "print(age3)\n",
    "\n",
    "# 给age4, age5, age6同时放入不一样的内容或值\n",
    "age4, age5, age6 = 12, 21, \"abc\"\n",
    "print(age4)\n",
    "print(age5)\n",
    "print(age6)"
   ]
  },
  {
   "cell_type": "markdown",
   "metadata": {},
   "source": [
    "## 变量类型\n",
    "- 严格意义上讲，python只有一个类型\n",
    "- 标准数据一共六种\n",
    "    - 数字类型Number\n",
    "    - 字符串类型str\n",
    "    - 列表List\n",
    "    - 元组tuple\n",
    "    - 字典dictionary\n",
    "    - 集合set\n",
    "\n",
    "## 数字类型\n",
    "    - 数字类型没有大小限制（不同于c++）\n",
    "\n",
    "### 整数\n",
    "- 没有小数部分，表示个数的数字\n",
    "- 自然数，0，负自然数\n",
    "- 整数分进制\n",
    "    - 二进制\n",
    "        - 计算机常用\n",
    "        - 是计算机唯一能直接理解的数字（要么通电要没不通电）\n",
    "        - 表示为0b开头的0，1的代码\n",
    "        - 例如 0b01101，0b10001\n",
    "    - 八进制\n",
    "        - 不常用\n",
    "        - 表示为0o开头的0～7的代码        \n",
    "    - 十六进制\n",
    "        - 其实是每四位二进制表示以为十六进制数\n",
    "        - 包含0～9， a~f\n",
    "        - 数字上以0x开头表示\n",
    "    - 十进制\n",
    "        - 18, 89, 178"
   ]
  },
  {
   "cell_type": "code",
   "execution_count": 12,
   "metadata": {},
   "outputs": [
    {
     "name": "stdout",
     "output_type": "stream",
     "text": [
      "18\n",
      "18\n",
      "18\n"
     ]
    }
   ],
   "source": [
    "age = 18\n",
    "print(age)\n",
    "\n",
    "age = 0b10010\n",
    "print(age)\n",
    "\n",
    "age = 0o22\n",
    "print(age)\n",
    "\n",
    "age = 0xff #十六进制ff表示二进制的1111 11111\n",
    "print(age)"
   ]
  },
  {
   "cell_type": "markdown",
   "metadata": {},
   "source": [
    "### 浮点数\n",
    "- 小数\n",
    "- 计算机里边表示浮点数可以有条件省略\n",
    "- 3.1415\n",
    "- 3.\n",
    "- 0.5\n",
    "- .5\n",
    "- 科学计数法\n",
    "    - 定义跟数字定义一致\n",
    "    - 写法使用e/E后面跟整数表示10的指数\n",
    "    - 176.23 == 1.7623e2\n",
    "    - 0.876 == 8.76e-1"
   ]
  },
  {
   "cell_type": "code",
   "execution_count": 16,
   "metadata": {},
   "outputs": [
    {
     "name": "stdout",
     "output_type": "stream",
     "text": [
      "156.34\n",
      "156.34\n",
      "0.2\n",
      "0.6\n"
     ]
    }
   ],
   "source": [
    "height = 156.34\n",
    "print(height)\n",
    "\n",
    "height = 1.5634e2\n",
    "print (height)\n",
    "\n",
    "eyesight = 0.2\n",
    "print(eyesight)\n",
    "\n",
    "eyesight = .6\n",
    "print(eyesight)"
   ]
  },
  {
   "cell_type": "markdown",
   "metadata": {},
   "source": [
    "### 负数complex\n",
    "- 定义同数字定义一致\n",
    "- 一个由实部和虚部构成的数字\n",
    "- 虚部用j/J表示\n",
    "- 5+3j\n",
    "- 3j\n",
    "\n",
    "### 布尔值\n",
    "- 表示真假的值\n",
    "- 只有两个值，True/False\n",
    "- 布尔值可以跟数字直接操作"
   ]
  },
  {
   "cell_type": "code",
   "execution_count": 18,
   "metadata": {},
   "outputs": [
    {
     "name": "stdout",
     "output_type": "stream",
     "text": [
      "19\n"
     ]
    }
   ],
   "source": [
    "#  布尔值操作\n",
    "age = 18 + True\n",
    "print(age)"
   ]
  },
  {
   "cell_type": "markdown",
   "metadata": {},
   "source": [
    "## 字符串\n",
    "- 用不来表示一串文字信息\n",
    "- 如何表示\n",
    "    - 单引号\n",
    "    - 双引号\n",
    "    - 三引号（三个单引号或者三个双引号）\n",
    "        - 能够扩起多行信息\n",
    "- 单双引号交错使用"
   ]
  },
  {
   "cell_type": "code",
   "execution_count": 22,
   "metadata": {},
   "outputs": [
    {
     "name": "stdout",
     "output_type": "stream",
     "text": [
      "i love wangxiaojing\n",
      "我爱王晓静\n",
      "<a style=\"colo:red\"> 哈哈哈</a>\n",
      "SyntaxError-语法错误\n",
      "            literal-字面的\n"
     ]
    }
   ],
   "source": [
    "love = \"i love wangxiaojing\"\n",
    "print(love)\n",
    "\n",
    "love = '我爱王晓静'\n",
    "print(love)\n",
    "\n",
    "# 单双引号交错使用\n",
    "# <a style=\"color:red\">哈哈哈</a>\n",
    "# 用引号表示上面字符串\n",
    "html = '<a style=\"colo:red\"> 哈哈哈</a>'\n",
    "error = '''SyntaxError-语法错误\n",
    "                     literal-字面的'''\n",
    "print(html)\n",
    "print(error)"
   ]
  },
  {
   "cell_type": "code",
   "execution_count": null,
   "metadata": {},
   "outputs": [],
   "source": []
  }
 ],
 "metadata": {
  "kernelspec": {
   "display_name": "Python 3",
   "language": "python",
   "name": "python3"
  },
  "language_info": {
   "codemirror_mode": {
    "name": "ipython",
    "version": 3
   },
   "file_extension": ".py",
   "mimetype": "text/x-python",
   "name": "python",
   "nbconvert_exporter": "python",
   "pygments_lexer": "ipython3",
   "version": "3.6.5"
  }
 },
 "nbformat": 4,
 "nbformat_minor": 2
}
